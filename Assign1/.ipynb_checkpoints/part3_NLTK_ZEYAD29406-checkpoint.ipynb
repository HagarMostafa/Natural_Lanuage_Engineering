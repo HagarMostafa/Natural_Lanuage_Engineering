{
 "cells": [
  {
   "cell_type": "markdown",
   "id": "ef77d1bf",
   "metadata": {},
   "source": [
    "#### Ans 1:"
   ]
  },
  {
   "cell_type": "code",
   "execution_count": 1,
   "id": "85e37a71",
   "metadata": {},
   "outputs": [],
   "source": [
    "from nltk.corpus import brown\n",
    "from nltk import bigrams, trigrams\n",
    "from collections import Counter, defaultdict\n",
    "\n",
    "# Create a placeholder for model\n",
    "model = defaultdict(lambda: defaultdict(lambda: 0))\n",
    "\n",
    "# Count frequency of co-occurance  \n",
    "for sentence in brown.sents():\n",
    "    for w1, w2, w3 in trigrams(sentence, pad_right=True, pad_left=True):\n",
    "        model[(w1, w2)][w3] += 1\n",
    "# Let's transform the counts to probabilities\n",
    "for w1_w2 in model:\n",
    "    total_count = float(sum(model[w1_w2].values()))\n",
    "    for w3 in model[w1_w2]:\n",
    "        model[w1_w2][w3] /= total_count"
   ]
  },
  {
   "cell_type": "markdown",
   "id": "3fc1120c",
   "metadata": {},
   "source": [
    "#### Ans 2:"
   ]
  },
  {
   "cell_type": "code",
   "execution_count": 2,
   "id": "0d66cacc",
   "metadata": {},
   "outputs": [
    {
     "data": {
      "text/plain": [
       "[('not', 0.11594202898550725),\n",
       " ('a', 0.06280193236714976),\n",
       " ('sure', 0.04830917874396135),\n",
       " ('.', 0.024154589371980676),\n",
       " ('an', 0.024154589371980676),\n",
       " ('innocent', 0.024154589371980676),\n",
       " ('told', 0.01932367149758454),\n",
       " ('very', 0.01932367149758454),\n",
       " ('getting', 0.01932367149758454),\n",
       " (\"''\", 0.01932367149758454),\n",
       " ('proud', 0.01932367149758454),\n",
       " ('here', 0.01932367149758454),\n",
       " ('so', 0.01932367149758454),\n",
       " ('saying', 0.01932367149758454),\n",
       " ('to', 0.01932367149758454),\n",
       " (',', 0.014492753623188406),\n",
       " ('also', 0.014492753623188406),\n",
       " ('the', 0.014492753623188406),\n",
       " ('going', 0.014492753623188406),\n",
       " ('afraid', 0.014492753623188406),\n",
       " ('convinced', 0.014492753623188406),\n",
       " ('well', 0.014492753623188406),\n",
       " ('concerned', 0.014492753623188406),\n",
       " ('in', 0.014492753623188406),\n",
       " ('interested', 0.00966183574879227),\n",
       " ('suggesting', 0.00966183574879227),\n",
       " ('only', 0.00966183574879227),\n",
       " ('recommending', 0.00966183574879227),\n",
       " ('confident', 0.00966183574879227),\n",
       " ('nothing', 0.00966183574879227),\n",
       " ('taking', 0.004830917874396135),\n",
       " ('driven', 0.004830917874396135),\n",
       " ('prepared', 0.004830917874396135),\n",
       " ('greatly', 0.004830917874396135),\n",
       " ('for', 0.004830917874396135),\n",
       " ('missing', 0.004830917874396135),\n",
       " ('referring', 0.004830917874396135),\n",
       " ('firmly', 0.004830917874396135),\n",
       " ('Assistant', 0.004830917874396135),\n",
       " ('leaving', 0.004830917874396135),\n",
       " ('resting', 0.004830917874396135),\n",
       " ('kept', 0.004830917874396135),\n",
       " ('consciously', 0.004830917874396135),\n",
       " ('over', 0.004830917874396135),\n",
       " ('holy', 0.004830917874396135),\n",
       " ('merely', 0.004830917874396135),\n",
       " ('easy', 0.004830917874396135),\n",
       " ('less', 0.004830917874396135),\n",
       " ('beguiled', 0.004830917874396135),\n",
       " ('thoroughly', 0.004830917874396135),\n",
       " ('holding', 0.004830917874396135),\n",
       " ('selling', 0.004830917874396135),\n",
       " ('growing', 0.004830917874396135),\n",
       " ('satisfied', 0.004830917874396135),\n",
       " ('naive', 0.004830917874396135),\n",
       " ('probably', 0.004830917874396135),\n",
       " ('certainly', 0.004830917874396135),\n",
       " ('usually', 0.004830917874396135),\n",
       " ('at', 0.004830917874396135),\n",
       " ('scraping', 0.004830917874396135),\n",
       " ('aware', 0.004830917874396135),\n",
       " ('certain', 0.004830917874396135),\n",
       " ('carrying', 0.004830917874396135),\n",
       " ('assured', 0.004830917874396135),\n",
       " ('deliberately', 0.004830917874396135),\n",
       " ('gone', 0.004830917874396135),\n",
       " ('about', 0.004830917874396135),\n",
       " ('thinking', 0.004830917874396135),\n",
       " ('obliged', 0.004830917874396135),\n",
       " ('really', 0.004830917874396135),\n",
       " ('no', 0.004830917874396135),\n",
       " ('prouder', 0.004830917874396135),\n",
       " ('simply', 0.004830917874396135),\n",
       " ('troubled', 0.004830917874396135),\n",
       " ('unaware', 0.004830917874396135),\n",
       " ('face', 0.004830917874396135),\n",
       " ('often', 0.004830917874396135),\n",
       " ('highly', 0.004830917874396135),\n",
       " ('pleased', 0.004830917874396135),\n",
       " ('supposed', 0.004830917874396135),\n",
       " ('equally', 0.004830917874396135),\n",
       " ('weary', 0.004830917874396135),\n",
       " ('sorry', 0.004830917874396135),\n",
       " ('carving', 0.004830917874396135),\n",
       " ('working', 0.004830917874396135),\n",
       " ('tired', 0.004830917874396135),\n",
       " ('terribly', 0.004830917874396135),\n",
       " ('trying', 0.004830917874396135),\n",
       " ('glad', 0.004830917874396135),\n",
       " ('married', 0.004830917874396135),\n",
       " ('currently', 0.004830917874396135),\n",
       " ('with', 0.004830917874396135),\n",
       " ('appalled', 0.004830917874396135),\n",
       " ('what', 0.004830917874396135),\n",
       " ('happy', 0.004830917874396135),\n",
       " ('padding', 0.004830917874396135),\n",
       " ('worried', 0.004830917874396135),\n",
       " ('and', 0.004830917874396135),\n",
       " ('reliably', 0.004830917874396135),\n",
       " ('taunting', 0.004830917874396135)]"
      ]
     },
     "execution_count": 2,
     "metadata": {},
     "output_type": "execute_result"
    }
   ],
   "source": [
    "sorted(dict(model[\"I\",\"am\"]).items(), key=lambda x:-1*x[1])"
   ]
  },
  {
   "cell_type": "markdown",
   "id": "f35f91cb",
   "metadata": {},
   "source": [
    "#### Ans 3:"
   ]
  },
  {
   "cell_type": "code",
   "execution_count": 3,
   "id": "67d54a1b",
   "metadata": {},
   "outputs": [
    {
     "name": "stdout",
     "output_type": "stream",
     "text": [
      "I am afraid Mr. Wesker's meat and potatoes -- they sit within the natural setting of crops .\n"
     ]
    }
   ],
   "source": [
    "import random\n",
    "\n",
    "# starting words\n",
    "text = [\"I\", \"am\"]\n",
    "sentence_finished = False\n",
    " \n",
    "while not sentence_finished:\n",
    "  # select a random probability threshold  \n",
    "    r = random.random()\n",
    "    accumulator = .0\n",
    "\n",
    "    for word in model[tuple(text[-2:])].keys():\n",
    "        accumulator += model[tuple(text[-2:])][word]\n",
    "      # select words that are above the probability threshold\n",
    "        if accumulator > r:\n",
    "            text.append(word)\n",
    "            break\n",
    "\n",
    "    if text[-2:] == [None, None]:\n",
    "        sentence_finished = True\n",
    "print (' '.join([t for t in text if t]))"
   ]
  }
 ],
 "metadata": {
  "kernelspec": {
   "display_name": "Python 3",
   "language": "python",
   "name": "python3"
  },
  "language_info": {
   "codemirror_mode": {
    "name": "ipython",
    "version": 3
   },
   "file_extension": ".py",
   "mimetype": "text/x-python",
   "name": "python",
   "nbconvert_exporter": "python",
   "pygments_lexer": "ipython3",
   "version": "3.8.8"
  }
 },
 "nbformat": 4,
 "nbformat_minor": 5
}
