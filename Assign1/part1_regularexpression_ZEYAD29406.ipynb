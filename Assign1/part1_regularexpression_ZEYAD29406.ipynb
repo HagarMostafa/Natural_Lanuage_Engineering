{
 "cells": [
  {
   "cell_type": "markdown",
   "id": "3337cc8a",
   "metadata": {},
   "source": [
    "#### Ans 1:\n",
    "([$\\£\\€]\\d+[\\,\\.]?\\d+\\w+\\s?)|(\\d+[\\,\\.]?\\d+\\w+\\s?([dD]ollar[s]?|[pP]ound[s]?|[eE]uro[s]?))"
   ]
  },
  {
   "cell_type": "code",
   "execution_count": 50,
   "id": "4b1f8e2c",
   "metadata": {},
   "outputs": [
    {
     "name": "stdout",
     "output_type": "stream",
     "text": [
      "('$131bn ', '', '')\n",
      "('£100bn', '', '')\n",
      "('$100bn ', '', '')\n",
      "('$17.4bn', '', '')\n"
     ]
    }
   ],
   "source": [
    "import re\n",
    "file = open('BBC_News.txt')\n",
    "for line in file:\n",
    "    money = re.findall('([$\\£\\€]\\d+[\\,\\.]?\\d+\\w+\\s?)|(\\d+[\\,\\.]?\\d+\\w+\\s?([dD]ollar[s]?|[pP]ound[s]?|[eE]uro[s]?))',line)\n",
    "    for element in money:\n",
    "        print(element)"
   ]
  },
  {
   "cell_type": "markdown",
   "id": "00b22716",
   "metadata": {},
   "source": [
    "#### Ans 2:\n",
    "(\\+?\\d+[-]?)?\\(?\\d{3}\\)?([\\s.-]?\\d{3})?[\\s.-]?\\d{4}?"
   ]
  },
  {
   "cell_type": "code",
   "execution_count": 26,
   "id": "1df49d82",
   "metadata": {},
   "outputs": [
    {
     "name": "stdout",
     "output_type": "stream",
     "text": [
      "555.123.4565\n",
      "+1-(800)-545-2468\n",
      "2-(800)-545-2468\n",
      "3-800-545-2468\n",
      "555-123-3456\n",
      "555 222 3342\n",
      "(234) 234 2442\n",
      "(243)-234-2342\n",
      "1234567890\n",
      "123.456.7890\n",
      "123.4567\n",
      "123-4567\n",
      "1234567900\n",
      "12345678900\n"
     ]
    }
   ],
   "source": [
    "import re\n",
    "list = ['555.123.4565',\n",
    "'+1-(800)-545-2468',\n",
    "'2-(800)-545-2468',\n",
    "'3-800-545-2468',\n",
    "'555-123-3456',\n",
    "'555 222 3342',\n",
    "'(234) 234 2442',\n",
    "'(243)-234-2342',\n",
    "'1234567890',\n",
    "'123.456.7890',\n",
    "'123.4567',\n",
    "'123-4567',\n",
    "'1234567900',\n",
    "'12345678900']\n",
    "for element in list:\n",
    "    pnum = re.match('(\\+?\\d+[-]?)?\\(?\\d{3}\\)?([\\s.-]?\\d{3})?[\\s.-]?\\d{4}?',element)\n",
    "    if pnum:\n",
    "        print(pnum.group())"
   ]
  }
 ],
 "metadata": {
  "kernelspec": {
   "display_name": "Python 3",
   "language": "python",
   "name": "python3"
  },
  "language_info": {
   "codemirror_mode": {
    "name": "ipython",
    "version": 3
   },
   "file_extension": ".py",
   "mimetype": "text/x-python",
   "name": "python",
   "nbconvert_exporter": "python",
   "pygments_lexer": "ipython3",
   "version": "3.8.8"
  }
 },
 "nbformat": 4,
 "nbformat_minor": 5
}
